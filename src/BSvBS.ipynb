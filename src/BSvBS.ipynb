{
 "cells": [
  {
   "cell_type": "markdown",
   "metadata": {},
   "source": [
    "# 0. Remarks of the author\n",
    "\n",
    "1. This code works as a skeleton, so that users can exploit it and define their own implementations. This means that the users should **NOT** expect to run this code solely to get the figures of the publication. \n",
    "\n",
    "2. To specify the utility and cost functions, the users that are interested have 3 options:\n",
    "    1. define their own functions/emulators, \n",
    "    2. use our (limited) dataset https://github.com/jaayala/power_dlul_dataset,\n",
    "    3. send email to m.kalntis@tudelft.nl to ask more information.\n",
    "\n",
    "3. If you use any piece of the code, please check *README.md* for citing."
   ]
  },
  {
   "cell_type": "code",
   "execution_count": 1,
   "metadata": {
    "colab": {
     "base_uri": "https://localhost:8080/",
     "height": 393
    },
    "id": "QwlyfTbiJx3g",
    "outputId": "420378f3-43d6-4a52-bfaa-8407fbb27ce5"
   },
   "outputs": [],
   "source": [
    "import numpy as np\n",
    "import matplotlib.pyplot as plt\n",
    "import itertools\n",
    "\n",
    "# we set a seed to get same random numbers each time we run the experiment\n",
    "np.random.seed(5)"
   ]
  },
  {
   "cell_type": "markdown",
   "metadata": {},
   "source": [
    "# 1. Functions to emulate testbed"
   ]
  },
  {
   "cell_type": "markdown",
   "metadata": {},
   "source": [
    "We define the weight parameter `delta`, which prioritizes the maximization of utility or the minimization of the power costs."
   ]
  },
  {
   "cell_type": "code",
   "execution_count": 2,
   "metadata": {
    "id": "xMk31LtPJx3j"
   },
   "outputs": [],
   "source": [
    "delta = 1"
   ]
  },
  {
   "cell_type": "markdown",
   "metadata": {},
   "source": [
    "## 1.1 Utility function"
   ]
  },
  {
   "cell_type": "code",
   "execution_count": 3,
   "metadata": {
    "id": "ioK7lu5BJx3m"
   },
   "outputs": [],
   "source": [
    "def fun_utility(s_t, cd_t):\n",
    "    ''' \n",
    "    Description\n",
    "    -----------\n",
    "    - This is a dummy utility function.\n",
    "    - Check section 0 (Remarks of the author, above) for more information.\n",
    "    -----------\n",
    "\n",
    "    Parameters\n",
    "    ----------\n",
    "    ----------\n",
    "    '''\n",
    "    dummy_val = sum(list(s_t))*np.random.random() + sum(list(cd_t))*np.random.random()\n",
    "    return dummy_val"
   ]
  },
  {
   "cell_type": "markdown",
   "metadata": {},
   "source": [
    "## 1.2 Power cost function"
   ]
  },
  {
   "cell_type": "code",
   "execution_count": 4,
   "metadata": {},
   "outputs": [],
   "source": [
    "def fun_power(s_t, cd_t):\n",
    "    '''\n",
    "    Description\n",
    "    -----------\n",
    "    - This is a dummy power cost function.\n",
    "    - Check section 0 (Remarks of the author, above) for more information.\n",
    "    -----------\n",
    "    \n",
    "    Parameters\n",
    "    ----------\n",
    "    ----------\n",
    "    '''\n",
    "    dummy_val = sum(list(s_t))*np.random.random() + sum(list(cd_t))*np.random.random()\n",
    "    return dummy_val"
   ]
  },
  {
   "cell_type": "markdown",
   "metadata": {},
   "source": [
    "## 1.3 Reward function\n",
    "\n",
    "This function combines the utility function and power cost function defined above."
   ]
  },
  {
   "cell_type": "code",
   "execution_count": 5,
   "metadata": {},
   "outputs": [],
   "source": [
    "def fun_reward(s_t, cd_t, delta):    \n",
    "    u = fun_utility(s_t, cd_t)\n",
    "    p = fun_power(s_t, cd_t)\n",
    "    return u - delta * p"
   ]
  },
  {
   "cell_type": "markdown",
   "metadata": {},
   "source": [
    "## 1.4 Draw function\n",
    "\n",
    "We draw arms/configurations from a multinomial distribution, based on the probabilities assigned to each arm."
   ]
  },
  {
   "cell_type": "code",
   "execution_count": 6,
   "metadata": {},
   "outputs": [],
   "source": [
    "def draw_arm(probs):\n",
    "    arms = np.random.multinomial(1, probs)\n",
    "    arm_chosen = np.nonzero(arms)[0][0]\n",
    "    return arm_chosen"
   ]
  },
  {
   "cell_type": "markdown",
   "metadata": {
    "id": "uNZ5EB-wJx3m"
   },
   "source": [
    "# 2. Parameters"
   ]
  },
  {
   "cell_type": "markdown",
   "metadata": {},
   "source": [
    "We determine the sets of: \n",
    "\n",
    "1. maximum allowed vBS transmission power control in DL (`p_dl`),\n",
    "2. highest eligible MCS in DL (`m_dl`),\n",
    "3. maximum vBS transmission airtime in DL (`a_dl`),\n",
    "\n",
    "4. highest eligible MCS in UL (`a_ul`),\n",
    "5. maximum vBS transmission airtime in UL (`m_ul`)."
   ]
  },
  {
   "cell_type": "code",
   "execution_count": 7,
   "metadata": {},
   "outputs": [],
   "source": [
    "p_dl = list(np.array([70]))\n",
    "m_dl = list(np.array([0, 5, 16, 27]))\n",
    "a_dl = list(np.array([0, 0.2, 0.6, 1]))\n",
    "\n",
    "m_ul = list(np.array([0, 5, 14, 23]))\n",
    "a_ul = list(np.array([0.01, 0.4, 0.6, 1]))"
   ]
  },
  {
   "cell_type": "markdown",
   "metadata": {},
   "source": [
    "The dictionary of the configurations (`config_dict`) has:\n",
    "- key: number of arm (configuration),\n",
    "- values: (p_dl, m_dl, a_dl, a_ul, m_ul)."
   ]
  },
  {
   "cell_type": "code",
   "execution_count": 8,
   "metadata": {},
   "outputs": [],
   "source": [
    "config_dict = {}\n",
    "for indx, ele in enumerate(itertools.product(*[p_dl, m_dl, a_dl, m_ul, a_ul])):\n",
    "    config_dict[indx] = ele"
   ]
  },
  {
   "cell_type": "markdown",
   "metadata": {},
   "source": [
    "We define:\n",
    "- the period (`T`),\n",
    "- the number of configurations (`S`),\n",
    "- the number of runs (`N`),\n",
    "- the minimum and maximum reward/payoff (`reward_min`, `reward_max`).\n",
    "\n",
    "*See original paper for more information.*"
   ]
  },
  {
   "cell_type": "code",
   "execution_count": 9,
   "metadata": {
    "id": "pgTu3m1PJx3r"
   },
   "outputs": [],
   "source": [
    "T = 1000\n",
    "S = len(config_dict)\n",
    "N = 10\n",
    "reward_min = -16\n",
    "reward_max = -10"
   ]
  },
  {
   "cell_type": "markdown",
   "metadata": {},
   "source": [
    "The variable `reward_chosen` stores the payoff/reward of the selected configuration and `cd_arr` stores the channel conditions and user demands observed in the simulation. The latter is used only for finding the single best configuration later."
   ]
  },
  {
   "cell_type": "code",
   "execution_count": 10,
   "metadata": {},
   "outputs": [],
   "source": [
    "reward_chosen = np.zeros((N, T))\n",
    "cd_arr = np.zeros(T, dtype=object)"
   ]
  },
  {
   "cell_type": "markdown",
   "metadata": {
    "id": "WXwupZXnJx3p"
   },
   "source": [
    "# 3. BSvBS algorithm"
   ]
  },
  {
   "cell_type": "markdown",
   "metadata": {},
   "source": [
    "Initialization of `gamma`, which determines the exploration/exploitation dilemma."
   ]
  },
  {
   "cell_type": "code",
   "execution_count": 11,
   "metadata": {
    "id": "4yR2lyuyJx3s"
   },
   "outputs": [],
   "source": [
    "gamma = min(1, np.sqrt(S*np.log(S)/((np.exp(1)-1)*T)))"
   ]
  },
  {
   "cell_type": "markdown",
   "metadata": {},
   "source": [
    "Definition of BSvBS algorithm."
   ]
  },
  {
   "cell_type": "code",
   "execution_count": 12,
   "metadata": {
    "id": "uGoe7Hh4Jx3q"
   },
   "outputs": [],
   "source": [
    "def BSvBS(n, T, S):\n",
    "    # initialization\n",
    "    y = np.ones(S)\n",
    "    \n",
    "    for t in range(T):\n",
    "        # Update distribution\n",
    "        score_sum = np.sum(y)\n",
    "        logit_map = [(1.0 - gamma) * y_a / score_sum + gamma / S for y_a in y]\n",
    "        x_t = logit_map \n",
    "\n",
    "        # Sample next configuration\n",
    "        s_t_num = draw_arm(x_t)\n",
    "        s_t = config_dict[s_t_num]\n",
    "        \n",
    "        # Observe network conditions and user demands\n",
    "        c_dl = np.random.randint(12, 15+1)\n",
    "        c_ul = np.random.randint(12, 15+1) \n",
    "        d_dl = np.random.uniform(29, 32)\n",
    "        d_ul = np.random.uniform(20, 23)\n",
    "        cd_t = (c_dl, c_ul, d_dl, d_ul)\n",
    "        cd_arr[t] = cd_t\n",
    "        \n",
    "        # Receive reward        \n",
    "        reward = fun_reward(s_t, cd_t, delta)\n",
    "        \n",
    "        # Scale reward in [0,1]\n",
    "        if reward < reward_min:\n",
    "            reward = reward_min\n",
    "        if reward > reward_max:\n",
    "            reward = reward_max\n",
    "        reward_scaled = (reward - reward_min) / (reward_max - reward_min)\n",
    "        \n",
    "        # Calculate weighted feedback\n",
    "        u_estimate = np.zeros(S)\n",
    "        u_estimate[s_t_num] = reward_scaled / x_t[s_t_num]\n",
    "        \n",
    "        # Update the weights\n",
    "        y[s_t_num] = y[s_t_num]*np.exp(u_estimate[s_t_num] * gamma / S)\n",
    "        \n",
    "        # Save variables for later usage\n",
    "        reward_chosen[n, t] = reward_scaled\n",
    "        \n",
    "    return"
   ]
  },
  {
   "cell_type": "markdown",
   "metadata": {},
   "source": [
    "Run BSvBS algorithm `N` times."
   ]
  },
  {
   "cell_type": "code",
   "execution_count": 13,
   "metadata": {},
   "outputs": [
    {
     "name": "stdout",
     "output_type": "stream",
     "text": [
      "End of run 1\n",
      "End of run 2\n",
      "End of run 3\n",
      "End of run 4\n",
      "End of run 5\n",
      "End of run 6\n",
      "End of run 7\n",
      "End of run 8\n",
      "End of run 9\n",
      "End of run 10\n"
     ]
    }
   ],
   "source": [
    "for n in range(N):\n",
    "    BSvBS(n, T, S)\n",
    "    print('End of run {}'.format(n+1))"
   ]
  },
  {
   "cell_type": "markdown",
   "metadata": {},
   "source": [
    "# 4. Achieved cumulative reward of BSvBS"
   ]
  },
  {
   "cell_type": "code",
   "execution_count": 14,
   "metadata": {},
   "outputs": [],
   "source": [
    "E_BSvBS = np.mean(reward_chosen, 0)\n",
    "E_G_BSvBS = np.cumsum(E_BSvBS)"
   ]
  },
  {
   "cell_type": "markdown",
   "metadata": {},
   "source": [
    "# 5. Single best (ideal) configuration\n",
    "\n",
    "**Important remark:** We stress that this section is needed for the plots of regret, but it is not required when one uses our algorithm in practice. Calculating the single best configuration will take time, due to the quadratic complexity, i.e., $\\mathcal{O}(S T)$. \n",
    "\n",
    "*PS: if you choose a large number of timeslots and configurations, grab a coffee and wait.*"
   ]
  },
  {
   "cell_type": "code",
   "execution_count": 15,
   "metadata": {},
   "outputs": [],
   "source": [
    "reward_all = np.zeros((S, T)) # contains the sum of rewards until time t\n",
    "G_max = np.zeros(T)"
   ]
  },
  {
   "cell_type": "code",
   "execution_count": 16,
   "metadata": {},
   "outputs": [],
   "source": [
    "for t in range(T):\n",
    "    for s in range(S):\n",
    "        # Configuration, loads and conditions\n",
    "        s_t = config_dict[s]\n",
    "        cd_t = cd_arr[t]\n",
    "        \n",
    "        # Receive reward        \n",
    "        reward = fun_reward(s_t, cd_t, delta)\n",
    "        \n",
    "        # Scale reward in [0,1]\n",
    "        if reward < reward_min:\n",
    "            reward = reward_min\n",
    "        if reward > reward_max:\n",
    "            reward = reward_max\n",
    "        reward_scaled = (reward - reward_min) / (reward_max - reward_min)\n",
    "        \n",
    "        # Store the rewards until time t\n",
    "        if t == 0:\n",
    "            reward_all[s][t] = reward_scaled\n",
    "        else:\n",
    "            reward_all[s][t] = reward_all[s][t-1] + reward_scaled\n",
    "\n",
    "    # find the config with the maximum reward\n",
    "    best_config = np.argmax(reward_all[:, t])\n",
    "    G_max[t] = reward_all[best_config][t]"
   ]
  },
  {
   "cell_type": "markdown",
   "metadata": {},
   "source": [
    "# 6. Static Expected Regret"
   ]
  },
  {
   "cell_type": "code",
   "execution_count": 17,
   "metadata": {},
   "outputs": [],
   "source": [
    "static_expected_regret = G_max - E_G_BSvBS"
   ]
  },
  {
   "cell_type": "markdown",
   "metadata": {},
   "source": [
    "# 7. Plotting regret"
   ]
  },
  {
   "cell_type": "code",
   "execution_count": 18,
   "metadata": {},
   "outputs": [
    {
     "data": {
      "image/png": "[encoded data removed]",
      "text/plain": [
       "<Figure size 432x288 with 1 Axes>"
      ]
     },
     "metadata": {
      "needs_background": "light"
     },
     "output_type": "display_data"
    }
   ],
   "source": [
    "t = np.arange(T)\n",
    "plt.figure(1)\n",
    "plt.xlabel('Time slot', fontsize=14)\n",
    "plt.ylabel(r'$\\frac{\\mathcal{R}_T}{T}$', fontsize=23)\n",
    "plt.plot(static_expected_regret[1:]/t[1:], linewidth=2, label='regret', color='orangered')\n",
    "plt.ticklabel_format(style='sci', axis='x', scilimits=(0,0))\n",
    "plt.grid()\n",
    "plt.legend(fontsize=12)\n",
    "plt.show()"
   ]
  }
 ],
 "metadata": {
  "colab": {
   "name": "BP_vRAN_after_meeting_Copy1_hedge_algo.ipynb",
   "provenance": []
  },
  "kernelspec": {
   "display_name": "Python 3",
   "language": "python",
   "name": "python3"
  },
  "language_info": {
   "codemirror_mode": {
    "name": "ipython",
    "version": 3
   },
   "file_extension": ".py",
   "mimetype": "text/x-python",
   "name": "python",
   "nbconvert_exporter": "python",
   "pygments_lexer": "ipython3",
   "version": "3.8.10"
  }
 },
 "nbformat": 4,
 "nbformat_minor": 1
}
