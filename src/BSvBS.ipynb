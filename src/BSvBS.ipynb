{
 "cells": [
  {
   "cell_type": "markdown",
   "id": "f7cfe352",
   "metadata": {},
   "source": [
    "# Remarks of the author\n",
    "\n",
    "1. This code works as a skeleton, so that users can exploit it and define their own implementations. This means that the users should **NOT** expect to run solely this piece of code to get the figures of our paper https://doi.org/10.1109/GLOBECOM48099.2022.10001330. \n",
    "\n",
    "2. To specify the utility and cost functions, the users that are interested have 3 options:\n",
    "    1. define their own functions/emulators, \n",
    "    2. use our (limited) dataset https://github.com/jaayala/power_dlul_dataset,\n",
    "    3. send email to [m.kalntis@tudelft.nl](mailto:m.kalntis@tudelft.nl) for more information.\n",
    "\n",
    "3. If you use any piece of the code here, please check *README.md* for citing."
   ]
  },
  {
   "cell_type": "markdown",
   "id": "9974ad45",
   "metadata": {},
   "source": [
    "# 1. Initialization"
   ]
  },
  {
   "cell_type": "code",
   "execution_count": 1,
   "id": "cee31658",
   "metadata": {},
   "outputs": [],
   "source": [
    "import numpy as np\n",
    "import matplotlib.pyplot as plt\n",
    "import itertools\n",
    "\n",
    "# For reproducability\n",
    "np.random.seed(5)"
   ]
  },
  {
   "cell_type": "markdown",
   "id": "367fb945",
   "metadata": {},
   "source": [
    "# 2. Functions to emulate testbed"
   ]
  },
  {
   "cell_type": "code",
   "execution_count": 2,
   "id": "894bea4a",
   "metadata": {},
   "outputs": [],
   "source": [
    "class EmulationFunctions:\n",
    "    \"\"\"Class for utility, power cost, and reward calculation.\n",
    "    \n",
    "    Parameters\n",
    "    ----------\n",
    "    delta: float\n",
    "        prioritizes utility or power cost function.\n",
    "    \"\"\"\n",
    "    \n",
    "    def __init__(self, delta: float) -> None:\n",
    "        self.delta = delta\n",
    "\n",
    "    def f_utility(self, s_t: tuple, cd_t: tuple) -> float:\n",
    "        \"\"\"Dummy utility function.\"\"\"\n",
    "        return sum(s_t) * np.random.random() + sum(cd_t) * np.random.random()\n",
    "\n",
    "    def f_power(self, s_t: tuple, cd_t: tuple) -> float:\n",
    "        \"\"\"Dummy power cost function.\"\"\"\n",
    "        return sum(s_t) * np.random.random() + sum(cd_t) * np.random.random()\n",
    "\n",
    "    def f_reward(self, s_t: tuple, cd_t: tuple) -> float:\n",
    "        \"\"\"Calculate the reward based on utility and power cost defined above.\"\"\"\n",
    "        utility = self.f_utility(s_t, cd_t)\n",
    "        power = self.f_power(s_t, cd_t)\n",
    "        return utility - self.delta * power"
   ]
  },
  {
   "cell_type": "markdown",
   "id": "32b632de",
   "metadata": {},
   "source": [
    "# 3. Configuration and Environment classes"
   ]
  },
  {
   "cell_type": "code",
   "execution_count": 3,
   "id": "b64c0ac9",
   "metadata": {},
   "outputs": [],
   "source": [
    "class Configuration:\n",
    "    \"\"\"Class to define and handle system configurations.\n",
    "    \n",
    "    Parameters\n",
    "    ----------\n",
    "    p_dl: list\n",
    "        maximum allowed vBS transmission power control in DL\n",
    "    \n",
    "    m_dl: list\n",
    "        highest eligible MCS in DL\n",
    "    \n",
    "    m_ul: list\n",
    "        maximum vBS transmission airtime in DL\n",
    "    \n",
    "    a_ul: list\n",
    "        highest eligible MCS in UL\n",
    "    \n",
    "    m_ul: list\n",
    "        maximum vBS transmission airtime in UL\n",
    "    \"\"\"\n",
    "\n",
    "    def __init__(self, p_dl: list[float], m_dl: list[float], a_dl: list[float], m_ul: list[float], a_ul: list[float]) -> None:\n",
    "        self.p_dl = p_dl\n",
    "        self.m_dl = m_dl\n",
    "        self.a_dl = a_dl\n",
    "        self.m_ul = m_ul\n",
    "        self.a_ul = a_ul\n",
    "\n",
    "    def generate_configurations(self) -> list:\n",
    "        \"\"\" Generate a dictionary with all possible combinations of the parameters\"\"\"\n",
    "        return list(itertools.product(self.p_dl, self.m_dl, self.a_dl, self.m_ul, self.a_ul))"
   ]
  },
  {
   "cell_type": "code",
   "execution_count": 4,
   "id": "c6d8b9b2",
   "metadata": {},
   "outputs": [],
   "source": [
    "class Environment:\n",
    "    \"\"\"Class to generate the environment, i.e., channels conditions and traffic demands\n",
    "    \n",
    "    Parameters\n",
    "    ----------\n",
    "    c_dl: int\n",
    "        Channel Quality Indicator (CQI) in DL\n",
    "    \n",
    "    c_ul: int\n",
    "        CQI in UL\n",
    "    \n",
    "    d_dl: float\n",
    "        traffic demands in DL\n",
    "        \n",
    "    d_ul: float\n",
    "        traffic demands in UL\n",
    "        \n",
    "    T: int\n",
    "        time horizon (total number of slots)\n",
    "    \"\"\"\n",
    "    \n",
    "    def __init__(self, c_dl: int, c_ul: int, d_dl: float, d_ul: float, T: int) -> None:\n",
    "        self.c_dl = c_dl\n",
    "        self.c_ul = c_ul\n",
    "        self.d_dl = d_dl\n",
    "        self.d_ul = d_ul\n",
    "        self.T = T\n",
    "    \n",
    "    def generate_environment(self) -> list:\n",
    "        return [(c_dl[t], c_ul[t], d_dl[t], d_ul[t]) for t in range(self.T)]\n",
    "        "
   ]
  },
  {
   "cell_type": "markdown",
   "id": "f30a2a1b",
   "metadata": {},
   "source": [
    "# 4. BSvBS algorithm"
   ]
  },
  {
   "cell_type": "code",
   "execution_count": 5,
   "id": "ba0f7a63",
   "metadata": {},
   "outputs": [],
   "source": [
    "class BSvBSAlgorithm():\n",
    "    \"\"\"Class implementing the BSvBS algorithm\n",
    "    \n",
    "    Parameters\n",
    "    ----------\n",
    "    N: int\n",
    "        number of times to run the simulation\n",
    "    \n",
    "    T: int\n",
    "        time horizon (total number of slots)\n",
    "        \n",
    "    S: int\n",
    "        number of configurations/arms\n",
    "        \n",
    "    delta: float\n",
    "        prioritizes utility or power cost function.\n",
    "    \n",
    "    config_dict: dict\n",
    "        dictionary, with key: number of arm (configuration) and \n",
    "        values (p_dl, m_dl, a_dl, a_ul, m_ul)\n",
    "        \n",
    "    cd_arr: list\n",
    "        channel conditions and traffic demands\n",
    "    \n",
    "    reward_min: float, optional (default=-16)\n",
    "        minimum reward value used to scale the rewards in [0, 1]\n",
    "    \n",
    "    reward_max: float, optional (default=-10)\n",
    "        maximum reward value used to scale the rewards in [0, 1]\n",
    "    \"\"\"\n",
    "\n",
    "    def __init__(self, N: int, T: int, S: int, delta: float, config_dict: dict[int, tuple], cd_arr: list, reward_min: float = -16, reward_max: float = -10) -> None:\n",
    "        self.N = N\n",
    "        self.T = T\n",
    "        self.S = S\n",
    "        self.delta = delta\n",
    "        self.config_dict = config_dict\n",
    "        self.cd_arr = cd_arr\n",
    "        self.reward_min = reward_min\n",
    "        self.reward_max = reward_max\n",
    "        # used in the algorithm to balance exploration and exploitation\n",
    "        self.gamma = min(1, np.sqrt(self.S * np.log(self.S) / ((np.exp(1) - 1) * self.T)))\n",
    "        # reward/payoff of the selected arm/configuration chosen at every timestep\n",
    "        self.reward_chosen = np.zeros((self.N, self.T)) \n",
    "        \n",
    "\n",
    "    @staticmethod\n",
    "    def draw_arm(probs: list[float]) -> int:\n",
    "        \"\"\"Draw arms/configurations from a multinomial distribution, based on the probabilities assigned to each arm.\"\"\"\n",
    "        arms = np.random.multinomial(1, probs)\n",
    "        return np.nonzero(arms)[0][0]\n",
    "\n",
    "    def run(self) -> tuple[np.ndarray, np.ndarray]:\n",
    "        \"\"\"Run BSvBS algorithm and return the reward of the chosen configurations and the environment at every timeslot\"\"\"\n",
    "        emulation_func = EmulationFunctions(self.delta)\n",
    "        for n in range(self.N):\n",
    "            y = np.ones(self.S)\n",
    "            for t in range(self.T):\n",
    "                # update distribution\n",
    "                score_sum = np.sum(y)\n",
    "                logit_map = [(1.0 - self.gamma) * y_a / score_sum + self.gamma / self.S for y_a in y]\n",
    "                x_t = logit_map\n",
    "                # sample next configuration\n",
    "                s_t_num = self.draw_arm(x_t)\n",
    "                s_t = self.config_dict[s_t_num]\n",
    "                # observe network conditions and user demands;\n",
    "                # careful: these are not known in advance, even though the implementation here just reads them from cd_arr\n",
    "                observe_cd = cd_arr[t]\n",
    "                # receive and scale reward in [0, 1]\n",
    "                reward = emulation_func.f_reward(s_t, observe_cd)\n",
    "                reward = max(min(reward, self.reward_max), self.reward_min)\n",
    "                reward_scaled = (reward - self.reward_min) / (self.reward_max - self.reward_min)\n",
    "                # calculate weighted feedback\n",
    "                u_estimate = np.zeros(self.S)\n",
    "                u_estimate[s_t_num] = reward_scaled / x_t[s_t_num]\n",
    "                # update the weights\n",
    "                y[s_t_num] = y[s_t_num] * np.exp(u_estimate[s_t_num] * self.gamma / self.S)\n",
    "                # save rewards\n",
    "                self.reward_chosen[n, t] = reward_scaled\n",
    "\n",
    "        return self.reward_chosen, self.cd_arr"
   ]
  },
  {
   "cell_type": "markdown",
   "id": "b98ed2ec",
   "metadata": {},
   "source": [
    "# 5. Single best (ideal) configuration\n",
    "\n",
    "**Important remarks:** \n",
    "* Due to the black-box approach considered in our work, BSvBS makes no assumption (e.g., convexity or closed-form expressions) for the utility and power cost functions; we just observe the utility of a configuration after we have tried it in our testbed (here, through the functions defined above in section 2). This ensures that our approach is applicable in cases that it is difficult to know the exact functions, or if these functions change arbitrarily. For that reason, we have to try all possible configurations to find which is the best performing one(s).\n",
    "* We stress that finding the best configuration(s) is needed for the plots of regret, but it is not required when one uses our algorithm in practice. Calculating the single best configuration will take time, if a large number of timeslots and configurations are chosen, due to the quadratic complexity of trying them all, i.e., $\\mathcal{O}(S T)$. "
   ]
  },
  {
   "cell_type": "code",
   "execution_count": 6,
   "id": "eda5382f",
   "metadata": {},
   "outputs": [],
   "source": [
    "class BestBenchmark():\n",
    "    \"\"\"Encapsulates the reward calculation process for all possible combinations of configurations\n",
    "        \n",
    "    Parameters\n",
    "    ----------\n",
    "    T: int\n",
    "        time horizon (total number of slots)\n",
    "\n",
    "    S: int\n",
    "        number of configurations/arms\n",
    "\n",
    "    delta: float\n",
    "        prioritizes utility or power cost function.\n",
    "\n",
    "    config_dict: dict\n",
    "        dictionary, with key: number of arm (configuration) and \n",
    "        values (p_dl, m_dl, a_dl, a_ul, m_ul)\n",
    "\n",
    "    cd_arr: list\n",
    "        channel conditions and traffic demands\n",
    "\n",
    "    reward_min: float, optional (default=-16)\n",
    "        minimum reward value used to scale the rewards in [0, 1]\n",
    "\n",
    "    reward_max: float, optional (default=-10)\n",
    "        maximum reward value used to scale the rewards in [0, 1]\n",
    "    \"\"\"\n",
    "\n",
    "    \n",
    "    def __init__(self, T: int, S: int, delta: float, config_dict: dict[int, tuple], cd_arr: list, \n",
    "                 reward_min: float, reward_max: float) -> None:\n",
    "        self.T = T\n",
    "        self.S = S\n",
    "        self.delta = delta\n",
    "        self.config_dict = config_dict\n",
    "        self.cd_arr = cd_arr\n",
    "        self.reward_min = reward_min\n",
    "        self.reward_max = reward_max\n",
    "        self.reward_all = np.zeros((self.S, self.T))\n",
    "\n",
    "    def calculate_best_benchmark(self) -> tuple[np.ndarray, np.ndarray]:\n",
    "        \"\"\"Calculate the rewards of all configurations and return their cumulative reward after each slot\"\"\"\n",
    "        emulation_func = EmulationFunctions(self.delta)\n",
    "        for t in range(self.T):\n",
    "            for s in range(self.S):\n",
    "                # try every configuration for every timeslot\n",
    "                s_t = self.config_dict[s] \n",
    "                # receive and scale reward in [0, 1]\n",
    "                reward = emulation_func.f_reward(s_t, self.cd_arr[t])\n",
    "                reward_scaled = (reward - self.reward_min) / (self.reward_max - self.reward_min)\n",
    "                # save the cumulative reward for every configuration until timeslot t\n",
    "                self.reward_all[s][t] = reward_scaled if t == 0 else self.reward_all[s][t-1] + reward_scaled\n",
    "\n",
    "        return self.reward_all"
   ]
  },
  {
   "cell_type": "markdown",
   "id": "a9d1f76d",
   "metadata": {},
   "source": [
    "# 6. Define setup and show results"
   ]
  },
  {
   "cell_type": "code",
   "execution_count": 7,
   "id": "85055806",
   "metadata": {},
   "outputs": [],
   "source": [
    "# configuration setup\n",
    "p_dl = [70]\n",
    "m_dl = [0, 5, 16, 27]\n",
    "a_dl = [0, 0.2, 0.6, 1]\n",
    "m_ul = [0, 5, 14, 23]\n",
    "a_ul = [0.01, 0.4, 0.6, 1]\n",
    "config_dict = {indx: ele for indx, ele in enumerate(Configuration(p_dl, m_dl, a_dl, m_ul, a_ul).generate_configurations())}\n",
    "\n",
    "\n",
    "# parameters\n",
    "T = 1000\n",
    "S = len(config_dict)\n",
    "N = 10\n",
    "delta = 1\n",
    "reward_min = -170\n",
    "reward_max = 170\n",
    "\n",
    "\n",
    "# environment (channel conditions and traffic demands)\n",
    "c_dl = np.random.randint(12, 16, T)\n",
    "c_ul = np.random.randint(12, 16, T)\n",
    "d_dl = np.random.uniform(29, 32, T)\n",
    "d_ul = np.random.uniform(20, 23, T)\n",
    "cd_arr = Environment(c_dl, c_ul, d_dl, d_ul, T).generate_environment()"
   ]
  },
  {
   "cell_type": "code",
   "execution_count": 8,
   "id": "6161c514",
   "metadata": {},
   "outputs": [
    {
     "data": {
      "image/png": "[encoded data removed]",
      "text/plain": [
       "<Figure size 432x288 with 1 Axes>"
      ]
     },
     "metadata": {
      "needs_background": "light"
     },
     "output_type": "display_data"
    }
   ],
   "source": [
    "# run BSvBS algorithm\n",
    "bsvbs_algorithm = BSvBSAlgorithm(N, T, S, delta, config_dict, cd_arr, reward_min, reward_max)\n",
    "reward_chosen, cd_arr = bsvbs_algorithm.run()\n",
    "\n",
    "\n",
    "# reward calculation for best/ideal configuration\n",
    "best_benchmark = BestBenchmark(T, S, delta, config_dict, cd_arr, reward_min, reward_max)\n",
    "reward_all = best_benchmark.calculate_best_benchmark()\n",
    "G_max = np.array([np.max(reward_all[:, t]) for t in range(T)])\n",
    "\n",
    "\n",
    "# compute static expected regret\n",
    "E_BSvBS = np.mean(reward_chosen, 0)\n",
    "E_G_BSvBS = np.cumsum(E_BSvBS)\n",
    "static_expected_regret = G_max - E_G_BSvBS\n",
    "\n",
    "\n",
    "# plot the static expected regret\n",
    "t = np.arange(T)\n",
    "plt.figure(1)\n",
    "plt.xlabel('Time slot', fontsize=18)\n",
    "plt.ylabel(r'$\\mathcal{R}_T/T$', fontsize=23)\n",
    "plt.plot(static_expected_regret[1:] / t[1:], linewidth=2, label='Regret', color='orangered')\n",
    "plt.grid()\n",
    "plt.legend(fontsize=12)\n",
    "plt.show()"
   ]
  },
  {
   "cell_type": "code",
   "execution_count": 9,
   "id": "f3440cd9",
   "metadata": {},
   "outputs": [
    {
     "data": {
      "text/plain": [
       "502.88349523960943"
      ]
     },
     "execution_count": 9,
     "metadata": {},
     "output_type": "execute_result"
    }
   ],
   "source": [
    "np.sum(E_BSvBS)"
   ]
  },
  {
   "cell_type": "code",
   "execution_count": null,
   "id": "f2f54d3e",
   "metadata": {},
   "outputs": [],
   "source": []
  }
 ],
 "metadata": {
  "kernelspec": {
   "display_name": "Python 3 (ipykernel)",
   "language": "python",
   "name": "python3"
  },
  "language_info": {
   "codemirror_mode": {
    "name": "ipython",
    "version": 3
   },
   "file_extension": ".py",
   "mimetype": "text/x-python",
   "name": "python",
   "nbconvert_exporter": "python",
   "pygments_lexer": "ipython3",
   "version": "3.10.12"
  }
 },
 "nbformat": 4,
 "nbformat_minor": 5
}

